{
 "cells": [
  {
   "cell_type": "code",
   "execution_count": 4,
   "metadata": {},
   "outputs": [
    {
     "name": "stdout",
     "output_type": "stream",
     "text": [
      "-14 的补码表示: 11110010\n"
     ]
    }
   ],
   "source": [
    "# 打印补码\n",
    "\n",
    "def calculate_twos_complement(num, num_bits):\n",
    "    # 判断是否为负数\n",
    "    if num < 0:\n",
    "        # 将负数转换为补码形式\n",
    "        twos_complement = bin(num & ((1 << num_bits) - 1))[2:]\n",
    "        # 补足位数\n",
    "        twos_complement = twos_complement.zfill(num_bits)\n",
    "    else:\n",
    "        # 将正数转换为二进制字符串\n",
    "        twos_complement = bin(num)[2:]\n",
    "        # 补足位数\n",
    "        twos_complement = twos_complement.zfill(num_bits)\n",
    "    \n",
    "    return twos_complement\n",
    "\n",
    "# 示例\n",
    "num = -14\n",
    "num_bits = 8\n",
    "\n",
    "twos_complement = calculate_twos_complement(num, num_bits)\n",
    "print(\"{} 的补码表示: {}\".format(num, twos_complement))\n",
    "\n",
    "\n"
   ]
  }
 ],
 "metadata": {
  "kernelspec": {
   "display_name": "Python 3",
   "language": "python",
   "name": "python3"
  },
  "language_info": {
   "codemirror_mode": {
    "name": "ipython",
    "version": 3
   },
   "file_extension": ".py",
   "mimetype": "text/x-python",
   "name": "python",
   "nbconvert_exporter": "python",
   "pygments_lexer": "ipython3",
   "version": "3.12.2"
  }
 },
 "nbformat": 4,
 "nbformat_minor": 2
}
